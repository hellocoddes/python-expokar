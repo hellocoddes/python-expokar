{
 "cells": [
  {
   "cell_type": "markdown",
   "id": "902211b5",
   "metadata": {},
   "source": [
    "# Python Expokar Tutorial\n",
    "\n",
    "This notebook demonstrates how to use various machine learning algorithm implementations using Python Expokar.\n",
    "\n",
    "## Setup\n",
    "First, let's install the package:"
   ]
  },
  {
   "cell_type": "code",
   "execution_count": null,
   "id": "f16365b5",
   "metadata": {},
   "outputs": [
    {
     "name": "stdout",
     "output_type": "stream",
     "text": [
      "Defaulting to user installation because normal site-packages is not writeable\n"
     ]
    },
    {
     "name": "stderr",
     "output_type": "stream",
     "text": [
      "ERROR: Could not find a version that satisfies the requirement python-expokar==0.1.4 (from versions: 0.1.0, 0.1.1, 0.1.2, 0.1.3)\n",
      "\n",
      "[notice] A new release of pip is available: 24.3.1 -> 25.0.1\n",
      "[notice] To update, run: python.exe -m pip install --upgrade pip\n",
      "ERROR: No matching distribution found for python-expokar==0.1.4\n"
     ]
    },
    {
     "data": {
      "text/plain": [
       "{'status': 'ok', 'restart': True}"
      ]
     },
     "execution_count": 31,
     "metadata": {},
     "output_type": "execute_result"
    },
    {
     "ename": "",
     "evalue": "",
     "output_type": "error",
     "traceback": [
      "\u001b[1;31mThe Kernel crashed while executing code in the current cell or a previous cell. \n",
      "\u001b[1;31mPlease review the code in the cell(s) to identify a possible cause of the failure. \n",
      "\u001b[1;31mClick <a href='https://aka.ms/vscodeJupyterKernelCrash'>here</a> for more info. \n",
      "\u001b[1;31mView Jupyter <a href='command:jupyter.viewOutput'>log</a> for further details."
     ]
    }
   ],
   "source": [
    "!pip install python-expokar==0.1.4\n",
    "# Restart runtime after installation\n",
    "import IPython\n",
    "IPython.Application.instance().kernel.do_shutdown(True)"
   ]
  },
  {
   "cell_type": "markdown",
   "id": "11576cc9",
   "metadata": {},
   "source": [
    "After the runtime restarts, run the following cells:"
   ]
  },
  {
   "cell_type": "code",
   "execution_count": null,
   "id": "89a676ce",
   "metadata": {},
   "outputs": [],
   "source": [
    "import sys\n",
    "import numpy as np\n",
    "from python_expokar.ml.experiments import ExperimentWriter\n",
    "\n",
    "# Create the writer instance\n",
    "writer = ExperimentWriter()\n",
    "\n",
    "# See available experiments\n",
    "print(\"\\nAvailable experiments:\")\n",
    "print(writer.experiments)\n",
    "\n",
    "# See available code snippets\n",
    "print(\"\\nAvailable code snippets:\")\n",
    "print(writer.questions)"
   ]
  },
  {
   "cell_type": "markdown",
   "id": "6a6613c9",
   "metadata": {},
   "source": [
    "## Try an Experiment\n",
    "Let's try running one of the available experiments:"
   ]
  },
  {
   "cell_type": "code",
   "execution_count": 1,
   "id": "8123e205",
   "metadata": {},
   "outputs": [
    {
     "ename": "NameError",
     "evalue": "name 'writer' is not defined",
     "output_type": "error",
     "traceback": [
      "\u001b[31m---------------------------------------------------------------------------\u001b[39m",
      "\u001b[31mNameError\u001b[39m                                 Traceback (most recent call last)",
      "\u001b[36mCell\u001b[39m\u001b[36m \u001b[39m\u001b[32mIn[1]\u001b[39m\u001b[32m, line 2\u001b[39m\n\u001b[32m      1\u001b[39m \u001b[38;5;66;03m# Run a logistic regression experiment\u001b[39;00m\n\u001b[32m----> \u001b[39m\u001b[32m2\u001b[39m model = \u001b[43mwriter\u001b[49m.get_experiment(\u001b[33m'\u001b[39m\u001b[33mlogistic_binary\u001b[39m\u001b[33m'\u001b[39m)\n\u001b[32m      3\u001b[39m \u001b[38;5;28mprint\u001b[39m(\u001b[33m\"\u001b[39m\u001b[33mModel:\u001b[39m\u001b[33m\"\u001b[39m, model)\n",
      "\u001b[31mNameError\u001b[39m: name 'writer' is not defined"
     ]
    }
   ],
   "source": [
    "# Run a logistic regression experiment\n",
    "model = writer.get_experiment('logistic_binary')\n",
    "print(\"Model:\", model)"
   ]
  },
  {
   "cell_type": "code",
   "execution_count": null,
   "id": "6024fef1",
   "metadata": {},
   "outputs": [],
   "source": []
  }
 ],
 "metadata": {
  "kernelspec": {
   "display_name": "Python 3",
   "language": "python",
   "name": "python3"
  },
  "language_info": {
   "codemirror_mode": {
    "name": "ipython",
    "version": 3
   },
   "file_extension": ".py",
   "mimetype": "text/x-python",
   "name": "python",
   "nbconvert_exporter": "python",
   "pygments_lexer": "ipython3",
   "version": "3.12.8"
  }
 },
 "nbformat": 4,
 "nbformat_minor": 5
}
